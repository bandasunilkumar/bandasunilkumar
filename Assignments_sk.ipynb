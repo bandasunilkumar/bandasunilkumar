{
  "nbformat": 4,
  "nbformat_minor": 0,
  "metadata": {
    "colab": {
      "provenance": [],
      "authorship_tag": "ABX9TyNi2C3QIgu4294GPd5iv0X6",
      "include_colab_link": true
    },
    "kernelspec": {
      "name": "python3",
      "display_name": "Python 3"
    },
    "language_info": {
      "name": "python"
    }
  },
  "cells": [
    {
      "cell_type": "markdown",
      "metadata": {
        "id": "view-in-github",
        "colab_type": "text"
      },
      "source": [
        "<a href=\"https://colab.research.google.com/github/bandasunilkumar/bandasunilkumar/blob/main/Assignments_sk.ipynb\" target=\"_parent\"><img src=\"https://colab.research.google.com/assets/colab-badge.svg\" alt=\"Open In Colab\"/></a>"
      ]
    },
    {
      "cell_type": "markdown",
      "source": [
        "**ASSIGNMENT QUESTIONS:-**\n",
        "\n",
        "1) write a programme to find a given number is even or odd ?"
      ],
      "metadata": {
        "id": "mwYnfXDG3BTg"
      }
    },
    {
      "cell_type": "code",
      "execution_count": null,
      "metadata": {
        "colab": {
          "base_uri": "https://localhost:8080/"
        },
        "id": "KFH2w7ac3AFp",
        "outputId": "e5b00c2d-5227-4aa9-b89d-d9384eed1b7d"
      },
      "outputs": [
        {
          "output_type": "stream",
          "name": "stdout",
          "text": [
            "Enter the number:75\n",
            "5 is odd\n"
          ]
        }
      ],
      "source": [
        "# 1)\n",
        "\n",
        " Number= int(input(\"Enter the number:\"))\n",
        "\n",
        " if Number%2==0:\n",
        "    print (f\"{2} is Even\")\n",
        " else:\n",
        "    print (f\"{5} is odd\")\n",
        "\n"
      ]
    },
    {
      "cell_type": "code",
      "source": [
        "number = int(input(\"enter the number: \"))\n",
        "\n",
        "if number %3 == 0:\n",
        "  print (\"it is odd number\")\n",
        "else:\n",
        "  print (\"it is even number\")"
      ],
      "metadata": {
        "colab": {
          "base_uri": "https://localhost:8080/"
        },
        "id": "ldHXmLMm-ggO",
        "outputId": "dfb12ef9-4a84-4a0f-f6a9-d0d67dfabb08"
      },
      "execution_count": null,
      "outputs": [
        {
          "output_type": "stream",
          "name": "stdout",
          "text": [
            "enter the number: 98\n",
            "it is even number\n"
          ]
        }
      ]
    },
    {
      "cell_type": "markdown",
      "source": [
        "**2) write a programme to find given number is prime or not ?**"
      ],
      "metadata": {
        "id": "WGBxkARICUVs"
      }
    },
    {
      "cell_type": "code",
      "source": [
        "#2) ans\n",
        "num = int(input(\"enter the number:\"))\n",
        "\n",
        "if num == 1:\n",
        "  print (\"it is not a prime number\")\n",
        "\n",
        "if num > 1:\n",
        "  for n in range(2,number):\n",
        "    if num %2==0:\n",
        "      print (\"num,it is not a prime number\")\n",
        "      break\n",
        "    else:\n",
        "      print (\"it is a prime number\")"
      ],
      "metadata": {
        "colab": {
          "base_uri": "https://localhost:8080/"
        },
        "id": "Hn5ZyeNLCre3",
        "outputId": "d4fa8ca2-3898-4cb1-e96f-7b50573a69ab"
      },
      "execution_count": null,
      "outputs": [
        {
          "output_type": "stream",
          "name": "stdout",
          "text": [
            "enter the number:6\n",
            "num,it is not a prime number\n"
          ]
        }
      ]
    },
    {
      "cell_type": "code",
      "source": [
        "num = int(input(\"enter the number:\"))\n",
        "\n",
        "if num == 1:\n",
        "  print (\"it is not a prime number\")\n",
        "\n",
        "if num > 1:\n",
        "   for n in range(2, num):\n",
        "    if num %2==0:\n",
        "      print (\"num,it is not a prime number\")\n",
        "      break\n",
        "    else:\n",
        "      print (\"it is a prime number\")\n"
      ],
      "metadata": {
        "colab": {
          "base_uri": "https://localhost:8080/"
        },
        "id": "w38frPclJcT7",
        "outputId": "076438b7-eca1-4be1-bc47-81ac31518661"
      },
      "execution_count": null,
      "outputs": [
        {
          "output_type": "stream",
          "name": "stdout",
          "text": [
            "enter the number:3\n",
            "it is a prime number\n"
          ]
        }
      ]
    },
    {
      "cell_type": "markdown",
      "source": [
        " 3) **Write** a program to find a big number among two numbers?"
      ],
      "metadata": {
        "id": "xm1YKfcEB5qG"
      }
    },
    {
      "cell_type": "code",
      "source": [
        "#3) ans\n",
        "\n",
        "a = int(input(\"enter the number: a \"))\n",
        "b = int(input(\"enter the number: b \"))\n",
        "\n",
        "if a>b:\n",
        "  print(\"a is the big number\")\n",
        "\n",
        "else:\n",
        "  print(\"b is the big number\")"
      ],
      "metadata": {
        "colab": {
          "base_uri": "https://localhost:8080/"
        },
        "id": "SSHsjSdRB23Z",
        "outputId": "6a70318b-97ab-4b6f-b7bd-3c623eb61157"
      },
      "execution_count": null,
      "outputs": [
        {
          "output_type": "stream",
          "name": "stdout",
          "text": [
            "enter the number: a 87\n",
            "enter the number: b 55\n",
            "a is the big number\n"
          ]
        }
      ]
    },
    {
      "cell_type": "markdown",
      "source": [
        " 4) **Write** a program to find a small number among two numbers?\n"
      ],
      "metadata": {
        "id": "4bawoHrnEpT9"
      }
    },
    {
      "cell_type": "code",
      "source": [
        "#4) ans\n",
        "\n",
        "a = int(input(\"enter the value of a:\"))\n",
        "b = int(input(\"enter the value of b:\"))\n",
        "\n",
        "if a>b:\n",
        "  print(\"a is a big number\")\n",
        "else:\n",
        "  print(\"a is small number\")"
      ],
      "metadata": {
        "colab": {
          "base_uri": "https://localhost:8080/"
        },
        "id": "1W6tWXoUEyrk",
        "outputId": "f7e98951-2b74-4ac0-835c-84b20a50ac55"
      },
      "execution_count": null,
      "outputs": [
        {
          "output_type": "stream",
          "name": "stdout",
          "text": [
            "enter the value of a:9\n",
            "enter the value of b:45\n",
            "a is small number\n"
          ]
        }
      ]
    },
    {
      "cell_type": "markdown",
      "source": [
        " 6) **Write** a program to find a small number among three numbers?"
      ],
      "metadata": {
        "id": "7xwKHMNrGBw5"
      }
    },
    {
      "cell_type": "code",
      "source": [
        "#6) ans\n",
        "\n",
        "a = int(input(\"enter the value of a:\"))\n",
        "b = int(input(\"enter the value of b:\"))\n",
        "c = int(input(\"enter the value of c:\"))\n",
        "\n",
        "if a<b and a<c:\n",
        "  print(\"a is a small number than b,c\")\n",
        "if b<c and b<a:\n",
        "  print(\"b is a small number than c,a\")\n",
        "if c<a and c<b:\n",
        "  print(\"c is small number\")"
      ],
      "metadata": {
        "colab": {
          "base_uri": "https://localhost:8080/"
        },
        "id": "TFL6BcFHGA7O",
        "outputId": "147afd2b-1202-4dd3-838b-5a04bee60028"
      },
      "execution_count": null,
      "outputs": [
        {
          "output_type": "stream",
          "name": "stdout",
          "text": [
            "enter the value of a:12\n",
            "enter the value of b:14\n",
            "enter the value of c:9\n",
            "c is small number\n"
          ]
        }
      ]
    },
    {
      "cell_type": "markdown",
      "source": [
        " 5) **Write** a program to find a big number among three numbers?"
      ],
      "metadata": {
        "id": "ax-C_wbENoKQ"
      }
    },
    {
      "cell_type": "code",
      "source": [
        "#5) ans\n",
        "\n",
        "a = int(input(\"enter the value of a:\"))\n",
        "b = int(input(\"enter the value of b:\"))\n",
        "c = int(input(\"enter the value of c:\"))\n",
        "\n",
        "if a>b and a>c:\n",
        "  print(\"a is a big number than b,c\")\n",
        "if b>c and b>a:\n",
        "  print(\"b is a big number than c,a\")\n",
        "if c>a and c>b:\n",
        "  print(\"c is a big number than a,b\")"
      ],
      "metadata": {
        "colab": {
          "base_uri": "https://localhost:8080/"
        },
        "id": "aYZHFMQVNmlQ",
        "outputId": "beab2fa0-4409-4981-adfe-131b4fd9ae75"
      },
      "execution_count": null,
      "outputs": [
        {
          "output_type": "stream",
          "name": "stdout",
          "text": [
            "enter the value of a:12\n",
            "enter the value of b:54\n",
            "enter the value of c:9\n",
            "b is a big number than c,a\n"
          ]
        }
      ]
    },
    {
      "cell_type": "markdown",
      "source": [
        "**7) write a prog to find the sum of digits of given number ?**"
      ],
      "metadata": {
        "id": "BYgiXeiUQu3W"
      }
    },
    {
      "cell_type": "code",
      "source": [
        "# answer to question for 7\n",
        "\n",
        "a = int(input(\"enter the number : \"))\n",
        "sum_of_digits =0\n",
        "\n",
        "while a != 0:\n",
        "  last_digit = a % 8\n",
        "  sum_of_digits = sum_of_digits + last_digit\n",
        "  a = a // 8\n",
        "\n",
        "print(\"sum of digits of a number is :\", sum_of_digits)"
      ],
      "metadata": {
        "colab": {
          "base_uri": "https://localhost:8080/"
        },
        "id": "fT-6WaM1QsyQ",
        "outputId": "86c7b235-9462-49c1-87c8-bde1c783197a"
      },
      "execution_count": null,
      "outputs": [
        {
          "output_type": "stream",
          "name": "stdout",
          "text": [
            "enter the number : 223\n",
            "sum of digits of a number is : 13\n"
          ]
        }
      ]
    },
    {
      "cell_type": "markdown",
      "source": [
        "**8) write a program to find product of digits of a given number ?**"
      ],
      "metadata": {
        "id": "SDhTwQIpbSUI"
      }
    },
    {
      "cell_type": "code",
      "source": [
        "# 8) ans\n",
        "\n",
        "a = int(input(\"enter the number: \"))\n",
        "prod=2\n",
        "\n",
        "while a != 0:\n",
        "  last_digit = a*4\n",
        "  prod = prod*last_digit\n",
        "  a = a // 4\n",
        "\n",
        "\n",
        "print(\"product of digits of given number is:\", prod)"
      ],
      "metadata": {
        "colab": {
          "base_uri": "https://localhost:8080/"
        },
        "id": "yppGiuF5YnFs",
        "outputId": "956754fa-d5d4-49ae-8d15-b1be0bdd0c25"
      },
      "execution_count": null,
      "outputs": [
        {
          "output_type": "stream",
          "name": "stdout",
          "text": [
            "enter the number: 8753\n",
            "product of digits of given number is: 25396818513227677696\n"
          ]
        }
      ]
    },
    {
      "cell_type": "markdown",
      "source": [
        "**9)  write a prog to reverse the given number ?**"
      ],
      "metadata": {
        "id": "jDCqUeVUJfUH"
      }
    },
    {
      "cell_type": "code",
      "source": [
        "# 9) ans\n",
        "\n",
        "num = 9701281394\n",
        "\n",
        "reversed_num = 0\n",
        "\n",
        "while num != 0:\n",
        "  digit = num % 10\n",
        "  reversed_num = reversed_num * 10 + digit\n",
        "  num //= 10\n",
        "\n",
        "print(\"Reversed Number: \" + str(reversed_num))"
      ],
      "metadata": {
        "colab": {
          "base_uri": "https://localhost:8080/"
        },
        "id": "NhZU6LX6Jyjv",
        "outputId": "d6f0cfde-0ac2-4c01-ea2e-9bb9bcae758e"
      },
      "execution_count": null,
      "outputs": [
        {
          "output_type": "stream",
          "name": "stdout",
          "text": [
            "Reversed Number: 4931821079\n"
          ]
        }
      ]
    },
    {
      "cell_type": "markdown",
      "source": [
        "**10) write a prog to find the given number polindrome or not ?**"
      ],
      "metadata": {
        "id": "x6xFWhEYPLT3"
      }
    },
    {
      "cell_type": "code",
      "source": [
        "# 10) ans\n",
        "\n",
        "number = int(input(\"enter the number:\"))\n",
        "temp = number\n",
        "reverse = 0\n",
        "\n",
        "while (number > 0):\n",
        "  dig = number % 10\n",
        "  reverse = reverse * 10 + dig\n",
        "  number = number // 10\n",
        "\n",
        "print(\"The reverse number is: \", reverse)\n",
        "\n",
        "if temp == reverse:\n",
        "  print(\"The number is polindrome\")\n",
        "\n",
        "else:\n",
        "  print(\"The number is not polindrome\")"
      ],
      "metadata": {
        "colab": {
          "base_uri": "https://localhost:8080/"
        },
        "id": "NQewo7KmSpwF",
        "outputId": "3cb5af7f-7c1b-499a-debf-837520b83a5e"
      },
      "execution_count": null,
      "outputs": [
        {
          "output_type": "stream",
          "name": "stdout",
          "text": [
            "enter the number:970128\n",
            "The reverse number is:  821079\n",
            "The number is not polindrome\n"
          ]
        }
      ]
    },
    {
      "cell_type": "code",
      "source": [
        "# Example number 2 (polindrome)\n",
        "\n",
        "num = int(input(\"enter the number:\"))\n",
        "temp = num\n",
        "reverse = 0\n",
        "\n",
        "while ( num > 0):\n",
        "  dig = num % 10\n",
        "  reverse = reverse * 10 + dig\n",
        "  num = num // 10\n",
        "\n",
        "print(\"The reverse number is: \", reverse)\n",
        "\n",
        "if temp == reverse:\n",
        "  print(\" The given number is Polindrome\")\n",
        "\n",
        "else:\n",
        "  print(\" The given number is not Polindrome\")\n"
      ],
      "metadata": {
        "colab": {
          "base_uri": "https://localhost:8080/"
        },
        "id": "Uu4d96liZ4pr",
        "outputId": "a08f1c96-f5de-4868-8f79-af621b0b9ffe"
      },
      "execution_count": null,
      "outputs": [
        {
          "output_type": "stream",
          "name": "stdout",
          "text": [
            "enter the number:121\n",
            "The reverse number is:  121\n",
            " The given number is Polindrome\n"
          ]
        }
      ]
    },
    {
      "cell_type": "markdown",
      "source": [
        "**11) Write a prog to find the given number is an ARMSTRONG number or not?**"
      ],
      "metadata": {
        "id": "quhQcBiynzVb"
      }
    },
    {
      "cell_type": "code",
      "source": [
        "# 11) ans\n",
        "\n",
        "num = int(input(\"enter the number:\"))\n",
        "sum = 0\n",
        "temp = num\n",
        "\n",
        "while temp > 0:\n",
        "  digit = temp % 10\n",
        "  sum += digit ** 4\n",
        "  temp //= 10\n",
        "\n",
        "if num == sum:\n",
        "  print(num,\"is an armstrong number\")\n",
        "\n",
        "else:\n",
        "  print(num,\"is not an armstrong number\")"
      ],
      "metadata": {
        "colab": {
          "base_uri": "https://localhost:8080/"
        },
        "id": "vSO8uGYToWqm",
        "outputId": "df814a12-855c-4a9a-eee7-016c93095a3a"
      },
      "execution_count": null,
      "outputs": [
        {
          "output_type": "stream",
          "name": "stdout",
          "text": [
            "enter the number:9474\n",
            "9474 is an armstrong number\n"
          ]
        }
      ]
    },
    {
      "cell_type": "markdown",
      "source": [
        "**12) write the prog to find the year is leap year or not ?**"
      ],
      "metadata": {
        "id": "kzc9jyjFvWY7"
      }
    },
    {
      "cell_type": "code",
      "source": [
        "#12) ans\n",
        "\n",
        "start_year = int(input(\"enter the year:\"))\n",
        "total_years = int(input(\"enter the total number of years\"))\n",
        "\n",
        "for year in range(start_year,start_year + total_years):\n",
        "\n",
        "  if year % 4 == 0:\n",
        "    print(\"{year} is a leap year\")\n",
        "\n",
        "  else:\n",
        "    print(\"{year} is not a leap year\")"
      ],
      "metadata": {
        "colab": {
          "base_uri": "https://localhost:8080/"
        },
        "id": "5jXjuEluvioX",
        "outputId": "9333a866-6ef7-47ee-dd12-75f48f749803"
      },
      "execution_count": null,
      "outputs": [
        {
          "output_type": "stream",
          "name": "stdout",
          "text": [
            "enter the year:1990\n",
            "enter the total number of years10\n",
            "{year} is not a leap year\n",
            "{year} is not a leap year\n",
            "{year} is a leap year\n",
            "{year} is not a leap year\n",
            "{year} is not a leap year\n",
            "{year} is not a leap year\n",
            "{year} is a leap year\n",
            "{year} is not a leap year\n",
            "{year} is not a leap year\n",
            "{year} is not a leap year\n"
          ]
        }
      ]
    },
    {
      "cell_type": "markdown",
      "source": [
        "**13) write a prog to print the below pattern ?**\n",
        "\n",
        "*\n",
        "**\n",
        "***\n",
        "****\n",
        "***\n",
        "**\n",
        "*"
      ],
      "metadata": {
        "id": "LcqCg0b8W6Qx"
      }
    },
    {
      "cell_type": "code",
      "source": [
        "#rows = int(input(\"enter the number of rows:\"))\n",
        "rows = 5\n",
        "\n",
        "for i in range (0, 5):\n",
        "  for j in range (0, i+1):\n",
        "    print(j, end= ' ')\n",
        "\n",
        "  print(' ')"
      ],
      "metadata": {
        "colab": {
          "base_uri": "https://localhost:8080/"
        },
        "id": "UedA9wDksb28",
        "outputId": "19753624-e4f2-48a1-db85-d3a3fea82b5c"
      },
      "execution_count": null,
      "outputs": [
        {
          "output_type": "stream",
          "name": "stdout",
          "text": [
            "0  \n",
            "0 1  \n",
            "0 1 2  \n",
            "0 1 2 3  \n",
            "0 1 2 3 4  \n"
          ]
        }
      ]
    },
    {
      "cell_type": "code",
      "source": [
        "# 13) ans\n",
        "\n",
        "rows = 5\n",
        "for i in range (0, rows):\n",
        "  for j in range (0, i + 1):\n",
        "    print (\"*\", end = ' ')\n",
        "\n",
        "  print(' ')"
      ],
      "metadata": {
        "colab": {
          "base_uri": "https://localhost:8080/"
        },
        "id": "PtWqdi-qW5pi",
        "outputId": "278b997c-af76-46bf-9a2a-9ba20d96df28"
      },
      "execution_count": null,
      "outputs": [
        {
          "output_type": "stream",
          "name": "stdout",
          "text": [
            "*  \n",
            "* *  \n",
            "* * *  \n",
            "* * * *  \n",
            "* * * * *  \n"
          ]
        }
      ]
    },
    {
      "cell_type": "markdown",
      "source": [
        "**14) Write a prog to print the following pattern ?**\n",
        "\n",
        "*****\n",
        "****\n",
        "***\n",
        "**\n",
        "*"
      ],
      "metadata": {
        "id": "euvht_kaFRqH"
      }
    },
    {
      "cell_type": "code",
      "source": [
        "# 14) ans\n",
        "\n",
        "rows = 6\n",
        "\n",
        "for i in range(rows, 0, -1):\n",
        "  for j in range(0, i-1):\n",
        "    print(\"*\", end=' ')\n",
        "\n",
        "  print(' ')"
      ],
      "metadata": {
        "colab": {
          "base_uri": "https://localhost:8080/"
        },
        "id": "HqGfsMHXFQDd",
        "outputId": "cebd1535-71c7-467f-9c9c-fde0853a5cee"
      },
      "execution_count": null,
      "outputs": [
        {
          "output_type": "stream",
          "name": "stdout",
          "text": [
            "* * * * *  \n",
            "* * * *  \n",
            "* * *  \n",
            "* *  \n",
            "*  \n",
            " \n"
          ]
        }
      ]
    },
    {
      "cell_type": "markdown",
      "source": [
        "**15) Write a prog to print the following pattern ?**\n",
        "\n",
        "1\n",
        "22\n",
        "333\n",
        "4444\n",
        "55555"
      ],
      "metadata": {
        "id": "AIkWl2WMJz9S"
      }
    },
    {
      "cell_type": "code",
      "source": [
        "# 15) ans\n",
        "\n",
        "rows = 6\n",
        "for i in range (1,6):\n",
        "  for j in range (i):\n",
        "    print(i, end='')\n",
        "  print(' ')"
      ],
      "metadata": {
        "colab": {
          "base_uri": "https://localhost:8080/"
        },
        "id": "x5KHfYEmFPXd",
        "outputId": "5a667cf4-96f2-4592-facf-5fdb09176e19"
      },
      "execution_count": null,
      "outputs": [
        {
          "output_type": "stream",
          "name": "stdout",
          "text": [
            "1 \n",
            "22 \n",
            "333 \n",
            "4444 \n",
            "55555 \n"
          ]
        }
      ]
    },
    {
      "cell_type": "markdown",
      "source": [
        "**16) Write a prog to print the pattern given below ?**\n",
        "\n",
        "1\n",
        "12\n",
        "123\n",
        "1234\n",
        "12345"
      ],
      "metadata": {
        "id": "P8Y8LGnd7zA3"
      }
    },
    {
      "cell_type": "code",
      "source": [
        "# 16) ans\n",
        "\n",
        "rows = int(input(\"enter the number of rows:\"))\n",
        "\n",
        "for i in range (1, rows+1):\n",
        "  for j in range (1, i+1):\n",
        "    print (j, end=' ')\n",
        "  print()"
      ],
      "metadata": {
        "colab": {
          "base_uri": "https://localhost:8080/"
        },
        "id": "JbGfwoux7edw",
        "outputId": "e0c74dd6-0d3a-42c8-f790-87850d438047"
      },
      "execution_count": null,
      "outputs": [
        {
          "output_type": "stream",
          "name": "stdout",
          "text": [
            "enter the number of rows:5\n",
            "1 \n",
            "1 2 \n",
            "1 2 3 \n",
            "1 2 3 4 \n",
            "1 2 3 4 5 \n"
          ]
        }
      ]
    },
    {
      "cell_type": "markdown",
      "source": [
        "**17) write a prog to print the below given pattern ?**\n",
        "i)\n",
        "55555\n",
        "4444\n",
        "333\n",
        "22\n",
        "1\n",
        "ii)\n",
        "12345\n",
        "1234\n",
        "123\n",
        "12\n",
        "1"
      ],
      "metadata": {
        "id": "q8y2hdGnSXEu"
      }
    },
    {
      "cell_type": "code",
      "source": [
        "# 17) ans\n",
        "# i)\n",
        "\n",
        "rows = int(input(\"enter the number of rows:\"))\n",
        "for i in range (rows, 0, -1):\n",
        "  for j in range(i):\n",
        "    print(i, end='')\n",
        "  print('')"
      ],
      "metadata": {
        "id": "JMKU1P-1VKd0",
        "colab": {
          "base_uri": "https://localhost:8080/"
        },
        "outputId": "1e1d56af-5dd5-42e6-bbee-681739cefcf3"
      },
      "execution_count": null,
      "outputs": [
        {
          "output_type": "stream",
          "name": "stdout",
          "text": [
            "enter the number of rows:5\n",
            "55555\n",
            "4444\n",
            "333\n",
            "22\n",
            "1\n"
          ]
        }
      ]
    },
    {
      "cell_type": "code",
      "source": [
        "# ii)\n",
        "\n",
        "rows = int(input(\"Enter the number of rows: \"))\n",
        "for i in range(rows,0, -1):\n",
        "    for j in range(1, i+1):\n",
        "        print(j, end=\" \")\n",
        "    print()\n"
      ],
      "metadata": {
        "colab": {
          "base_uri": "https://localhost:8080/"
        },
        "id": "mNUBbjM5SXqZ",
        "outputId": "92589503-3b5c-424b-e9e7-5b5c289cf64e"
      },
      "execution_count": null,
      "outputs": [
        {
          "output_type": "stream",
          "name": "stdout",
          "text": [
            "Enter the number of rows: 5\n",
            "1 2 3 4 5 \n",
            "1 2 3 4 \n",
            "1 2 3 \n",
            "1 2 \n",
            "1 \n"
          ]
        }
      ]
    },
    {
      "cell_type": "markdown",
      "source": [
        "**18) Write a prog to print first 100 even numbers of 1000 ?**"
      ],
      "metadata": {
        "id": "WGOuJg72_yJf"
      }
    },
    {
      "cell_type": "code",
      "source": [
        "# 18) ans\n",
        "\n",
        "a = int(input(\"enter the first number: \"))\n",
        "b = int(input(\"enter the last number: \"))\n",
        "\n",
        "for num in range (a, b+1):\n",
        "  if num % 2 == 0:\n",
        "    print( num, end=\" \")\n"
      ],
      "metadata": {
        "colab": {
          "base_uri": "https://localhost:8080/"
        },
        "id": "ZwxCUhTB_tYd",
        "outputId": "6c030542-6115-4d32-bf4a-bdffac517e23"
      },
      "execution_count": null,
      "outputs": [
        {
          "output_type": "stream",
          "name": "stdout",
          "text": [
            "enter the first number: 1\n",
            "enter the last number: 1000\n",
            "2 4 6 8 10 12 14 16 18 20 22 24 26 28 30 32 34 36 38 40 42 44 46 48 50 52 54 56 58 60 62 64 66 68 70 72 74 76 78 80 82 84 86 88 90 92 94 96 98 100 102 104 106 108 110 112 114 116 118 120 122 124 126 128 130 132 134 136 138 140 142 144 146 148 150 152 154 156 158 160 162 164 166 168 170 172 174 176 178 180 182 184 186 188 190 192 194 196 198 200 202 204 206 208 210 212 214 216 218 220 222 224 226 228 230 232 234 236 238 240 242 244 246 248 250 252 254 256 258 260 262 264 266 268 270 272 274 276 278 280 282 284 286 288 290 292 294 296 298 300 302 304 306 308 310 312 314 316 318 320 322 324 326 328 330 332 334 336 338 340 342 344 346 348 350 352 354 356 358 360 362 364 366 368 370 372 374 376 378 380 382 384 386 388 390 392 394 396 398 400 402 404 406 408 410 412 414 416 418 420 422 424 426 428 430 432 434 436 438 440 442 444 446 448 450 452 454 456 458 460 462 464 466 468 470 472 474 476 478 480 482 484 486 488 490 492 494 496 498 500 502 504 506 508 510 512 514 516 518 520 522 524 526 528 530 532 534 536 538 540 542 544 546 548 550 552 554 556 558 560 562 564 566 568 570 572 574 576 578 580 582 584 586 588 590 592 594 596 598 600 602 604 606 608 610 612 614 616 618 620 622 624 626 628 630 632 634 636 638 640 642 644 646 648 650 652 654 656 658 660 662 664 666 668 670 672 674 676 678 680 682 684 686 688 690 692 694 696 698 700 702 704 706 708 710 712 714 716 718 720 722 724 726 728 730 732 734 736 738 740 742 744 746 748 750 752 754 756 758 760 762 764 766 768 770 772 774 776 778 780 782 784 786 788 790 792 794 796 798 800 802 804 806 808 810 812 814 816 818 820 822 824 826 828 830 832 834 836 838 840 842 844 846 848 850 852 854 856 858 860 862 864 866 868 870 872 874 876 878 880 882 884 886 888 890 892 894 896 898 900 902 904 906 908 910 912 914 916 918 920 922 924 926 928 930 932 934 936 938 940 942 944 946 948 950 952 954 956 958 960 962 964 966 968 970 972 974 976 978 980 982 984 986 988 990 992 994 996 998 1000 "
          ]
        }
      ]
    },
    {
      "cell_type": "markdown",
      "source": [
        "**19) write a prog to print first 100 prime numbers of 1000 ?**"
      ],
      "metadata": {
        "id": "PqV8sQZ3Ah5L"
      }
    },
    {
      "cell_type": "code",
      "source": [
        "# 19) ans\n",
        "\n",
        "num = 1000\n",
        "\n",
        "for num in range (1,1001):\n",
        "  for i in range (2, num):\n",
        "    if num % i == 0:\n",
        "      break\n",
        "  else:\n",
        "    print (num,\"is a prime number\")"
      ],
      "metadata": {
        "colab": {
          "base_uri": "https://localhost:8080/"
        },
        "id": "jFEjRhTk_ttf",
        "outputId": "1b2caef1-5999-4570-e1a3-860ede5bbb26"
      },
      "execution_count": null,
      "outputs": [
        {
          "output_type": "stream",
          "name": "stdout",
          "text": [
            "1 is a prime number\n",
            "2 is a prime number\n",
            "3 is a prime number\n",
            "5 is a prime number\n",
            "7 is a prime number\n",
            "11 is a prime number\n",
            "13 is a prime number\n",
            "17 is a prime number\n",
            "19 is a prime number\n",
            "23 is a prime number\n",
            "29 is a prime number\n",
            "31 is a prime number\n",
            "37 is a prime number\n",
            "41 is a prime number\n",
            "43 is a prime number\n",
            "47 is a prime number\n",
            "53 is a prime number\n",
            "59 is a prime number\n",
            "61 is a prime number\n",
            "67 is a prime number\n",
            "71 is a prime number\n",
            "73 is a prime number\n",
            "79 is a prime number\n",
            "83 is a prime number\n",
            "89 is a prime number\n",
            "97 is a prime number\n",
            "101 is a prime number\n",
            "103 is a prime number\n",
            "107 is a prime number\n",
            "109 is a prime number\n",
            "113 is a prime number\n",
            "127 is a prime number\n",
            "131 is a prime number\n",
            "137 is a prime number\n",
            "139 is a prime number\n",
            "149 is a prime number\n",
            "151 is a prime number\n",
            "157 is a prime number\n",
            "163 is a prime number\n",
            "167 is a prime number\n",
            "173 is a prime number\n",
            "179 is a prime number\n",
            "181 is a prime number\n",
            "191 is a prime number\n",
            "193 is a prime number\n",
            "197 is a prime number\n",
            "199 is a prime number\n",
            "211 is a prime number\n",
            "223 is a prime number\n",
            "227 is a prime number\n",
            "229 is a prime number\n",
            "233 is a prime number\n",
            "239 is a prime number\n",
            "241 is a prime number\n",
            "251 is a prime number\n",
            "257 is a prime number\n",
            "263 is a prime number\n",
            "269 is a prime number\n",
            "271 is a prime number\n",
            "277 is a prime number\n",
            "281 is a prime number\n",
            "283 is a prime number\n",
            "293 is a prime number\n",
            "307 is a prime number\n",
            "311 is a prime number\n",
            "313 is a prime number\n",
            "317 is a prime number\n",
            "331 is a prime number\n",
            "337 is a prime number\n",
            "347 is a prime number\n",
            "349 is a prime number\n",
            "353 is a prime number\n",
            "359 is a prime number\n",
            "367 is a prime number\n",
            "373 is a prime number\n",
            "379 is a prime number\n",
            "383 is a prime number\n",
            "389 is a prime number\n",
            "397 is a prime number\n",
            "401 is a prime number\n",
            "409 is a prime number\n",
            "419 is a prime number\n",
            "421 is a prime number\n",
            "431 is a prime number\n",
            "433 is a prime number\n",
            "439 is a prime number\n",
            "443 is a prime number\n",
            "449 is a prime number\n",
            "457 is a prime number\n",
            "461 is a prime number\n",
            "463 is a prime number\n",
            "467 is a prime number\n",
            "479 is a prime number\n",
            "487 is a prime number\n",
            "491 is a prime number\n",
            "499 is a prime number\n",
            "503 is a prime number\n",
            "509 is a prime number\n",
            "521 is a prime number\n",
            "523 is a prime number\n",
            "541 is a prime number\n",
            "547 is a prime number\n",
            "557 is a prime number\n",
            "563 is a prime number\n",
            "569 is a prime number\n",
            "571 is a prime number\n",
            "577 is a prime number\n",
            "587 is a prime number\n",
            "593 is a prime number\n",
            "599 is a prime number\n",
            "601 is a prime number\n",
            "607 is a prime number\n",
            "613 is a prime number\n",
            "617 is a prime number\n",
            "619 is a prime number\n",
            "631 is a prime number\n",
            "641 is a prime number\n",
            "643 is a prime number\n",
            "647 is a prime number\n",
            "653 is a prime number\n",
            "659 is a prime number\n",
            "661 is a prime number\n",
            "673 is a prime number\n",
            "677 is a prime number\n",
            "683 is a prime number\n",
            "691 is a prime number\n",
            "701 is a prime number\n",
            "709 is a prime number\n",
            "719 is a prime number\n",
            "727 is a prime number\n",
            "733 is a prime number\n",
            "739 is a prime number\n",
            "743 is a prime number\n",
            "751 is a prime number\n",
            "757 is a prime number\n",
            "761 is a prime number\n",
            "769 is a prime number\n",
            "773 is a prime number\n",
            "787 is a prime number\n",
            "797 is a prime number\n",
            "809 is a prime number\n",
            "811 is a prime number\n",
            "821 is a prime number\n",
            "823 is a prime number\n",
            "827 is a prime number\n",
            "829 is a prime number\n",
            "839 is a prime number\n",
            "853 is a prime number\n",
            "857 is a prime number\n",
            "859 is a prime number\n",
            "863 is a prime number\n",
            "877 is a prime number\n",
            "881 is a prime number\n",
            "883 is a prime number\n",
            "887 is a prime number\n",
            "907 is a prime number\n",
            "911 is a prime number\n",
            "919 is a prime number\n",
            "929 is a prime number\n",
            "937 is a prime number\n",
            "941 is a prime number\n",
            "947 is a prime number\n",
            "953 is a prime number\n",
            "967 is a prime number\n",
            "971 is a prime number\n",
            "977 is a prime number\n",
            "983 is a prime number\n",
            "991 is a prime number\n",
            "997 is a prime number\n"
          ]
        }
      ]
    },
    {
      "cell_type": "markdown",
      "source": [
        "**21)15) write a prog to print multiplication table of 10? **"
      ],
      "metadata": {
        "id": "-O9sVDck9wCN"
      }
    },
    {
      "cell_type": "code",
      "source": [
        "n = int(input(\"enter the multiplication number:\"))\n",
        "\n",
        "for i in range (1,11):\n",
        "  c= n*i\n",
        "  print(n,\"*\",i,\"=\",c)"
      ],
      "metadata": {
        "id": "JGkBHQDY_tvR",
        "colab": {
          "base_uri": "https://localhost:8080/"
        },
        "outputId": "cc26f34b-8035-459f-8ca2-56c0eec643ab"
      },
      "execution_count": null,
      "outputs": [
        {
          "output_type": "stream",
          "name": "stdout",
          "text": [
            "enter the multiplication number:10\n",
            "10 * 1 = 10\n",
            "10 * 2 = 20\n",
            "10 * 3 = 30\n",
            "10 * 4 = 40\n",
            "10 * 5 = 50\n",
            "10 * 6 = 60\n",
            "10 * 7 = 70\n",
            "10 * 8 = 80\n",
            "10 * 9 = 90\n",
            "10 * 10 = 100\n"
          ]
        }
      ]
    },
    {
      "cell_type": "markdown",
      "source": [
        "**21) write a prog to calculate the gross salary of an employee ?**"
      ],
      "metadata": {
        "id": "PwThiKPI_2lt"
      }
    },
    {
      "cell_type": "code",
      "source": [
        "#21) ans\n",
        "\n",
        "def cal(bs,da,hra):\n",
        "  gs = bs + da + hra\n",
        "  return gs\n",
        "\n",
        "bs = int(input(\"enter the basic salary :\"))\n",
        "\n",
        "da = (bs*40)/100\n",
        "hra = (bs*20)/100\n",
        "\n",
        "print(\"Gross Salary is: \",cal(bs,da,hra))\n"
      ],
      "metadata": {
        "id": "alTwDgTM_txy",
        "colab": {
          "base_uri": "https://localhost:8080/"
        },
        "outputId": "2efc8547-b4c8-4ad3-cfcb-bf617b55375a"
      },
      "execution_count": null,
      "outputs": [
        {
          "output_type": "stream",
          "name": "stdout",
          "text": [
            "enter the basic salary :50000\n",
            "Gross Salary is:  80000.0\n"
          ]
        }
      ]
    },
    {
      "cell_type": "code",
      "source": [
        "# example 2:\n",
        "\n",
        "def cal(bs,pf,hra,da):\n",
        "  gs = bs+pf+hra+da\n",
        "  return gs\n",
        "\n",
        "bs = int(input(\"enter the salary of employee recieved take home:\"))\n",
        "\n",
        "pf = (bs*10)/100\n",
        "hra = (bs*20)/100\n",
        "da = (bs*40)/100\n",
        "\n",
        "print(\"Gross Salary of an Employee is:\", cal(bs,da,hra,pf))\n"
      ],
      "metadata": {
        "id": "mjVmCFKF_t0c",
        "colab": {
          "base_uri": "https://localhost:8080/"
        },
        "outputId": "80d2a61b-19bb-4153-d4f8-764287f57fcf"
      },
      "execution_count": null,
      "outputs": [
        {
          "output_type": "stream",
          "name": "stdout",
          "text": [
            "enter the salary of employee recieved take home:13300\n",
            "Gross Salary of an Employee is: 22610.0\n"
          ]
        }
      ]
    },
    {
      "cell_type": "markdown",
      "source": [
        "**22) Write a prog to find the percentage of a student from 6 subjects ?**"
      ],
      "metadata": {
        "id": "TkgvmxBBLymm"
      }
    },
    {
      "cell_type": "code",
      "source": [
        "print(\" percentage of the student in 6 subjects\")\n",
        "\n",
        "s1 = int(input(\"enter the marks of s1:\"))\n",
        "s2 = int(input(\"enter the marks of s2:\"))\n",
        "s3 = int(input(\"enter the marks of s3:\"))\n",
        "s4 = int(input(\"enter the marks of s4:\"))\n",
        "s5 = int(input(\"enter the marks of s5:\"))\n",
        "s6 = int(input(\"enter the marks of s6:\"))\n",
        "\n",
        "total = (s1+s2+s3+s4+s5+s6)\n",
        "percentage = (total/600)*100\n",
        "\n",
        "print(\"percentage of marks=\",percentage,\"%\")"
      ],
      "metadata": {
        "id": "6_qqdY8r_t3Q",
        "colab": {
          "base_uri": "https://localhost:8080/"
        },
        "outputId": "6e4cefbc-917c-47be-bd7f-97701458026c"
      },
      "execution_count": null,
      "outputs": [
        {
          "output_type": "stream",
          "name": "stdout",
          "text": [
            " percentage of the student in 6 subjects\n",
            "enter the marks of s1:87\n",
            "enter the marks of s2:48\n",
            "enter the marks of s3:86\n",
            "enter the marks of s4:69\n",
            "enter the marks of s5:73\n",
            "enter the marks of s6:65\n",
            "percentage of marks= 71.33333333333334 %\n"
          ]
        }
      ]
    },
    {
      "cell_type": "markdown",
      "source": [
        "**23) Write a prog to swap two numbers without using third variable ?**"
      ],
      "metadata": {
        "id": "Km-6L6I0UXCL"
      }
    },
    {
      "cell_type": "code",
      "source": [
        "# 23) ans\n",
        "\n",
        "a = int(input(\"enter the number: \"))\n",
        "b = int(input(\"enter the number: \"))\n",
        "\n",
        "a = b\n",
        "b = a\n",
        "\n",
        "print(\"After swapping a value is: \",b)\n",
        "print(\"After swapping b value is: \",a)"
      ],
      "metadata": {
        "id": "7L4ykraa_t7H",
        "colab": {
          "base_uri": "https://localhost:8080/"
        },
        "outputId": "a109f6d0-f4c8-4df9-de2d-7c7659c35a21"
      },
      "execution_count": null,
      "outputs": [
        {
          "output_type": "stream",
          "name": "stdout",
          "text": [
            "enter the number: 6\n",
            "enter the number: 8\n",
            "After swapping a value is:  8\n",
            "After swapping b value is:  8\n"
          ]
        }
      ]
    },
    {
      "cell_type": "markdown",
      "source": [
        "**24) write a prog to swap two numbers ?**"
      ],
      "metadata": {
        "id": "YOVa9JlfI6HE"
      }
    },
    {
      "cell_type": "code",
      "source": [
        "# 24) Python program to swap two variables\n",
        "\n",
        "x = input('Enter value of x: ')\n",
        "y = input('Enter value of y: ')\n",
        "\n",
        "temp = x\n",
        "x = y\n",
        "y = temp\n",
        "\n",
        "print('The value of x after swapping: {}'.format(x))\n",
        "print('The value of y after swapping: {}'.format(y))\n"
      ],
      "metadata": {
        "id": "KePJ7XJI_t9E",
        "colab": {
          "base_uri": "https://localhost:8080/"
        },
        "outputId": "4ea1bc80-6cf3-4340-8dff-1e5549ae6758"
      },
      "execution_count": null,
      "outputs": [
        {
          "output_type": "stream",
          "name": "stdout",
          "text": [
            "Enter value of x: 9\n",
            "Enter value of y: 16\n",
            "The value of x after swapping: 16\n",
            "The value of y after swapping: 9\n"
          ]
        }
      ]
    },
    {
      "cell_type": "markdown",
      "source": [
        "**25) write a prog to find the given number is perfect or not ?**"
      ],
      "metadata": {
        "id": "_DGmjuEcJieI"
      }
    },
    {
      "cell_type": "code",
      "source": [
        "# 25) ans\n",
        "\n",
        "a = int(input(\" enter the value of a: \"))\n",
        " i = 0\n"
      ],
      "metadata": {
        "id": "_FAIYj6jI5E5"
      },
      "execution_count": null,
      "outputs": []
    },
    {
      "cell_type": "code",
      "source": [],
      "metadata": {
        "id": "k2Oav_DB_t_d"
      },
      "execution_count": null,
      "outputs": []
    },
    {
      "cell_type": "code",
      "source": [],
      "metadata": {
        "id": "RI9naXVp_uCJ"
      },
      "execution_count": null,
      "outputs": []
    },
    {
      "cell_type": "code",
      "source": [],
      "metadata": {
        "id": "nLNPdtTt_uE8"
      },
      "execution_count": null,
      "outputs": []
    },
    {
      "cell_type": "code",
      "source": [],
      "metadata": {
        "id": "ko3-4JKv_uI0"
      },
      "execution_count": null,
      "outputs": []
    },
    {
      "cell_type": "markdown",
      "source": [
        "**30) Write a prog to print below pattern ?**\n",
        "\n",
        "*\n",
        "**\n",
        "***\n",
        "****\n",
        "*****\n",
        "****\n",
        "***\n",
        "**\n",
        "*"
      ],
      "metadata": {
        "id": "-RcIZvX8TeaM"
      }
    },
    {
      "cell_type": "code",
      "source": [
        "rows = 5\n",
        "for i in range(0, rows):\n",
        "    for j in range(0,i+1):\n",
        "        print(\"*\", end=' ')\n",
        "    print(\" \")\n",
        "for i in range(rows, 0, -1):\n",
        "    for j in range(0, i-1):\n",
        "        print(\"*\", end=' ')\n",
        "    print(\" \")"
      ],
      "metadata": {
        "colab": {
          "base_uri": "https://localhost:8080/"
        },
        "id": "6Bg_kR1FQdzI",
        "outputId": "76416520-d76e-488e-f99a-c129c226958b"
      },
      "execution_count": null,
      "outputs": [
        {
          "output_type": "stream",
          "name": "stdout",
          "text": [
            "*  \n",
            "* *  \n",
            "* * *  \n",
            "* * * *  \n",
            "* * * * *  \n",
            "* * * *  \n",
            "* * *  \n",
            "* *  \n",
            "*  \n",
            " \n"
          ]
        }
      ]
    }
  ]
}